{
 "cells": [
  {
   "cell_type": "code",
   "execution_count": 1,
   "metadata": {},
   "outputs": [],
   "source": [
    "import pandas as pd\n",
    "import numpy as np\n"
   ]
  },
  {
   "cell_type": "code",
   "execution_count": 28,
   "metadata": {},
   "outputs": [],
   "source": [
    "labyrinth = [[\".\",\".\",\".\",\".\"],[\".\",\".\",\".\"],[\".\",\".\",\".\"]]"
   ]
  },
  {
   "cell_type": "code",
   "execution_count": 29,
   "metadata": {},
   "outputs": [
    {
     "name": "stdout",
     "output_type": "stream",
     "text": [
      "[]\n"
     ]
    }
   ],
   "source": [
    "izq=[0,0]\n",
    "cen=[0,1]\n",
    "der=[0,2]\n",
    "mov=[]\n",
    "if (labyrinth[izq[0]][izq[1]]==\".\") & (labyrinth[cen[0]][cen[1]]==\".\") & (labyrinth[der[0]][der[1]]==\".\"):\n",
    "    avanza=-1\n",
    "    while avanza == -1:\n",
    "        try:\n",
    "            der[0][1]=der[0][1]+1\n",
    "        except:\n",
    "            break\n",
    "        cen[0][1]=cen[0][1]+1\n",
    "        izq[0][1]=izq[0][1]+1\n",
    "        mov.append(\"derecha\")\n",
    "   \n",
    "\n",
    "    print(mov)\n",
    "else:\n",
    "    output=-1\n"
   ]
  },
  {
   "cell_type": "code",
   "execution_count": 31,
   "metadata": {},
   "outputs": [
    {
     "data": {
      "text/plain": [
       "[0, 2]"
      ]
     },
     "execution_count": 31,
     "metadata": {},
     "output_type": "execute_result"
    }
   ],
   "source": [
    "der"
   ]
  },
  {
   "cell_type": "code",
   "execution_count": 14,
   "metadata": {},
   "outputs": [
    {
     "data": {
      "text/plain": [
       "'.'"
      ]
     },
     "execution_count": 14,
     "metadata": {},
     "output_type": "execute_result"
    }
   ],
   "source": [
    "objeto=[[0,1],[0,0],-1]\n",
    "labyrinth[objeto[1][0]][objeto[1][1]]"
   ]
  },
  {
   "cell_type": "code",
   "execution_count": 38,
   "metadata": {},
   "outputs": [
    {
     "data": {
      "text/plain": [
       "3"
      ]
     },
     "execution_count": 38,
     "metadata": {},
     "output_type": "execute_result"
    }
   ],
   "source": [
    "matriz=[[1,2,3],[1,2,3]]\n",
    "len(matriz[0])"
   ]
  },
  {
   "cell_type": "code",
   "execution_count": 42,
   "metadata": {},
   "outputs": [
    {
     "ename": "TypeError",
     "evalue": "'int' object is not subscriptable",
     "output_type": "error",
     "traceback": [
      "\u001b[1;31m---------------------------------------------------------------------------\u001b[0m",
      "\u001b[1;31mTypeError\u001b[0m                                 Traceback (most recent call last)",
      "\u001b[1;32m~\\AppData\\Local\\Temp\\ipykernel_25772\\3200158281.py\u001b[0m in \u001b[0;36m<module>\u001b[1;34m\u001b[0m\n\u001b[0;32m      2\u001b[0m \u001b[0mfilas\u001b[0m\u001b[1;33m=\u001b[0m\u001b[0mlen\u001b[0m\u001b[1;33m(\u001b[0m\u001b[0mlabyrinth\u001b[0m\u001b[1;33m)\u001b[0m\u001b[1;33m\u001b[0m\u001b[1;33m\u001b[0m\u001b[0m\n\u001b[0;32m      3\u001b[0m \u001b[0mcolumnas\u001b[0m\u001b[1;33m=\u001b[0m\u001b[0mlen\u001b[0m\u001b[1;33m(\u001b[0m\u001b[0mlabyrinth\u001b[0m\u001b[1;33m[\u001b[0m\u001b[1;36m0\u001b[0m\u001b[1;33m]\u001b[0m\u001b[1;33m)\u001b[0m\u001b[1;33m\u001b[0m\u001b[1;33m\u001b[0m\u001b[0m\n\u001b[1;32m----> 4\u001b[1;33m \u001b[0mfilas\u001b[0m\u001b[1;33m[\u001b[0m\u001b[1;36m0\u001b[0m\u001b[1;33m]\u001b[0m\u001b[1;33m\u001b[0m\u001b[1;33m\u001b[0m\u001b[0m\n\u001b[0m",
      "\u001b[1;31mTypeError\u001b[0m: 'int' object is not subscriptable"
     ]
    }
   ],
   "source": [
    "labyrinth = [[\".\",\".\",\".\"],[\".\",\".\",\".\"],[\".\",\".\",\".\"]]\n",
    "filas=len(labyrinth)\n",
    "columnas=len(labyrinth[0])"
   ]
  },
  {
   "cell_type": "code",
   "execution_count": 43,
   "metadata": {},
   "outputs": [],
   "source": [
    "def valida_posicion(izq,cen,der,labyrinth):\n",
    "    filas=len(labyrinth)\n",
    "    columnas=len(labyrinth[0])\n",
    "    if ((izq[0]>=0) & (izq[0]<filas)&(izq[1]>=0) & (izq[1]<filas))&((cen[0]>=0) & (cen[0]<filas)&(cen[1]>=0) & (cen[1]<filas))&((der[0]>=0) & (der[0]<filas)&(der[1]>=0) & (der[1]<filas)):\n",
    "        \n",
    "        resul=True\n",
    "    else:\n",
    "        resul=False\n",
    "\n",
    "    return resul"
   ]
  },
  {
   "cell_type": "code",
   "execution_count": 46,
   "metadata": {},
   "outputs": [
    {
     "data": {
      "text/plain": [
       "True"
      ]
     },
     "execution_count": 46,
     "metadata": {},
     "output_type": "execute_result"
    }
   ],
   "source": [
    "labyrinth = [[\".\",\".\",\".\"],[\".\",\".\",\".\"],[\".\",\".\",\".\"]]\n",
    "izq=[0,0]\n",
    "der=[0,1]\n",
    "cen=[0,1]\n",
    "valida_posicion(izq=izq,cen=cen,der=der,labyrinth=labyrinth)"
   ]
  },
  {
   "cell_type": "code",
   "execution_count": 50,
   "metadata": {},
   "outputs": [
    {
     "data": {
      "text/plain": [
       "'.'"
      ]
     },
     "execution_count": 50,
     "metadata": {},
     "output_type": "execute_result"
    }
   ],
   "source": [
    "labyrinth[-1][-1]"
   ]
  },
  {
   "cell_type": "code",
   "execution_count": 64,
   "metadata": {},
   "outputs": [
    {
     "data": {
      "text/plain": [
       "True"
      ]
     },
     "execution_count": 64,
     "metadata": {},
     "output_type": "execute_result"
    }
   ],
   "source": [
    "movimientos=[2,4,4,4]\n",
    "while (len(movimientos)>1) & (movimientos[-1]==4):\n",
    "    movimientos=movimientos[:-1]\n",
    "if (len(movimientos)==1) :\n",
    "    imp=True\n",
    "else:\n",
    "    imp=False\n",
    "imp"
   ]
  },
  {
   "cell_type": "code",
   "execution_count": 57,
   "metadata": {},
   "outputs": [
    {
     "data": {
      "text/plain": [
       "4"
      ]
     },
     "execution_count": 57,
     "metadata": {},
     "output_type": "execute_result"
    }
   ],
   "source": [
    "len(movimientos)"
   ]
  },
  {
   "cell_type": "code",
   "execution_count": 65,
   "metadata": {},
   "outputs": [
    {
     "name": "stdout",
     "output_type": "stream",
     "text": [
      "0\n",
      "1\n",
      "2\n"
     ]
    }
   ],
   "source": [
    "for i in [0,1,2,3,4]:\n",
    "    if i==3:\n",
    "        break\n",
    "    print(i)"
   ]
  },
  {
   "cell_type": "code",
   "execution_count": 68,
   "metadata": {},
   "outputs": [],
   "source": [
    "ult_fila=len(labyrinth)\n",
    "ult_columna=len(labyrinth[0])"
   ]
  },
  {
   "cell_type": "code",
   "execution_count": null,
   "metadata": {},
   "outputs": [],
   "source": [
    "labyrinth = [[\".\",\".\",\".\"],[\".\",\".\",\".\"],[\".\",\".\",\".\"]]\n",
    "izq=[0,0]\n",
    "der=[0,1]\n",
    "cen=[0,1]\n",
    "valid=valida_posicion(izq=izq,cen=cen,der=der,labyrinth=labyrinth)\n",
    "if valid==False:\n",
    "    SAL=-1\n",
    "else:\n",
    "    \n"
   ]
  }
 ],
 "metadata": {
  "kernelspec": {
   "display_name": "icai",
   "language": "python",
   "name": "python3"
  },
  "language_info": {
   "codemirror_mode": {
    "name": "ipython",
    "version": 3
   },
   "file_extension": ".py",
   "mimetype": "text/x-python",
   "name": "python",
   "nbconvert_exporter": "python",
   "pygments_lexer": "ipython3",
   "version": "3.9.16"
  },
  "orig_nbformat": 4
 },
 "nbformat": 4,
 "nbformat_minor": 2
}
